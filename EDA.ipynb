{
 "cells": [
  {
   "cell_type": "markdown",
   "id": "0a9ddcd7",
   "metadata": {
    "papermill": {
     "duration": 0.032876,
     "end_time": "2024-03-31T18:37:36.185021",
     "exception": false,
     "start_time": "2024-03-31T18:37:36.152145",
     "status": "completed"
    },
    "tags": []
   },
   "source": [
    "## Table of Contents\n",
    "<ul>\n",
    "<li><a href=\"#intro\">Introduction</a></li>\n",
    "<li><a href=\"#wrangling\">Data Wrangling</a></li>\n",
    "<li><a href=\"#eda\">Exploratory Data Analysis</a></li>\n",
    "<li><a href=\"#conclusions\">Conclusions</a></li>\n",
    "</ul>"
   ]
  },
  {
   "cell_type": "markdown",
   "id": "9af47964",
   "metadata": {
    "papermill": {
     "duration": 0.034446,
     "end_time": "2024-03-31T18:37:36.253853",
     "exception": false,
     "start_time": "2024-03-31T18:37:36.219407",
     "status": "completed"
    },
    "tags": []
   },
   "source": [
    "<div style=\"border-radius: 10px; border: 2px solid #3498db; padding: 20px; background-color: #f0f0f0; box-shadow: 0px 4px 8px rgba(0, 0, 0, 0.1);\">\n",
    "   <div style=\"display: flex; align-items: flex-start;\">\n",
    "      <div style=\"flex: 1;\">\n",
    "         <h3 style=\"color: #2c3e50; text-shadow: 2px 2px 4px rgba(0, 0, 0, 0.3); font-weight: bold;\">Steps of Data Science Project</h3>\n",
    "         <div style=\"margin-top: 20px; text-align: left;\">\n",
    "            <ul style=\"list-style-type: decimal; margin-left: 10px; font-size: 18px; color: #333;\">\n",
    "            <li>Askning Questions &#128587;</li>\n",
    "            <li>Data Collection &#128194;</li>\n",
    "            <li>Data Cleaning &#128269;</li>\n",
    "            <li>Exploratory Data Analysis (EDA) &#128220;</li>\n",
    "            <li>Comunicate Results &#128640;</li>\n",
    "        </ul>\n",
    "         </div>\n",
    "      </div>\n",
    "   </div>\n",
    "</div>"
   ]
  },
  {
   "cell_type": "markdown",
   "id": "446cec99",
   "metadata": {
    "papermill": {
     "duration": 0.031859,
     "end_time": "2024-03-31T18:37:36.382911",
     "exception": false,
     "start_time": "2024-03-31T18:37:36.351052",
     "status": "completed"
    },
    "tags": []
   },
   "source": [
    "<div style=\"background:#fff7f7;padding:10px;border-radius:6px;border:2px blue solid;margin:10px;\">\n",
    "  <h2>Newspaper Dataset Description</h2>\n",
    "  <div style=\"max-width: 100%; overflow-x: auto;\">\n",
    "    <table style=\"width: 100%; border-collapse: collapse; min-width: 600px;\">\n",
    "      <thead>\n",
    "        <tr>\n",
    "          <th style=\"border: 1px solid #ddd; padding: 8px; text-align: left;\">컬럼 이름</th>\n",
    "          <th style=\"border: 1px solid #ddd; padding: 8px; text-align: left;\">설명</th>\n",
    "        </tr>\n",
    "      </thead>\n",
    "      <tbody>\n",
    "        <tr>\n",
    "          <td style=\"border: 1px solid #ddd; padding: 8px;\">SubscriptionID</td>\n",
    "          <td style=\"border: 1px solid #ddd; padding: 8px;\">구독자의 고유 ID</td>\n",
    "        </tr>\n",
    "        <tr>\n",
    "          <td style=\"border: 1px solid #ddd; padding: 8px;\">HH Income</td>\n",
    "          <td style=\"border: 1px solid #ddd; padding: 8px;\">가구 소득 (예: \"$30,000 - $39,999\")</td>\n",
    "        </tr>\n",
    "        <tr>\n",
    "          <td style=\"border: 1px solid #ddd; padding: 8px;\">Home Ownership</td>\n",
    "          <td style=\"border: 1px solid #ddd; padding: 8px;\">주택 소유 상태 (OWNER: 주택 소유, RENTER: 임대)</td>\n",
    "        </tr>\n",
    "        <tr>\n",
    "          <td style=\"border: 1px solid #ddd; padding: 8px;\">Ethnicity</td>\n",
    "          <td style=\"border: 1px solid #ddd; padding: 8px;\">민족 또는 인종 (예: \"German\", \"Italian\", \"unknown\")</td>\n",
    "        </tr>\n",
    "        <tr>\n",
    "          <td style=\"border: 1px solid #ddd; padding: 8px;\">dummy for Children</td>\n",
    "          <td style=\"border: 1px solid #ddd; padding: 8px;\">자녀 여부 (Y: 있음, N: 없음)</td>\n",
    "        </tr>\n",
    "        <tr>\n",
    "          <td style=\"border: 1px solid #ddd; padding: 8px;\">Year Of Residence</td>\n",
    "          <td style=\"border: 1px solid #ddd; padding: 8px;\">거주 년수 (예: 1년, 14년 등)</td>\n",
    "        </tr>\n",
    "        <tr>\n",
    "          <td style=\"border: 1px solid #ddd; padding: 8px;\">Age range</td>\n",
    "          <td style=\"border: 1px solid #ddd; padding: 8px;\">연령대 (예: \"25-29\", \"50-54\" 등)</td>\n",
    "        </tr>\n",
    "        <tr>\n",
    "          <td style=\"border: 1px solid #ddd; padding: 8px;\">Language</td>\n",
    "          <td style=\"border: 1px solid #ddd; padding: 8px;\">사용 언어 (예: \"English\", \"German\" 등)</td>\n",
    "        </tr>\n",
    "        <tr>\n",
    "          <td style=\"border: 1px solid #ddd; padding: 8px;\">Address</td>\n",
    "          <td style=\"border: 1px solid #ddd; padding: 8px;\">주소</td>\n",
    "        </tr>\n",
    "        <tr>\n",
    "          <td style=\"border: 1px solid #ddd; padding: 8px;\">State</td>\n",
    "          <td style=\"border: 1px solid #ddd; padding: 8px;\">주 (예: \"CA\"는 캘리포니아)</td>\n",
    "        </tr>\n",
    "        <tr>\n",
    "          <td style=\"border: 1px solid #ddd; padding: 8px;\">City</td>\n",
    "          <td style=\"border: 1px solid #ddd; padding: 8px;\">도시 (예: \"LONG BEACH\", \"NEWPORT COAST\" 등)</td>\n",
    "        </tr>\n",
    "        <tr>\n",
    "          <td style=\"border: 1px solid #ddd; padding: 8px;\">County</td>\n",
    "          <td style=\"border: 1px solid #ddd; padding: 8px;\">카운티 (예: \"LOS ANGELES\", \"ORANGE\" 등)</td>\n",
    "        </tr>\n",
    "        <tr>\n",
    "          <td style=\"border: 1px solid #ddd; padding: 8px;\">Zip Code</td>\n",
    "          <td style=\"border: 1px solid #ddd; padding: 8px;\">우편번호 (예: \"90802\", \"92657\" 등)</td>\n",
    "        </tr>\n",
    "        <tr>\n",
    "          <td style=\"border: 1px solid #ddd; padding: 8px;\">weekly fee</td>\n",
    "          <td style=\"border: 1px solid #ddd; padding: 8px;\">주간 요금 (예: \"$7.00 - $7.99\", \"$0.01 - $0.50\" 등)</td>\n",
    "        </tr>\n",
    "        <tr>\n",
    "          <td style=\"border: 1px solid #ddd; padding: 8px;\">Deliveryperiod</td>\n",
    "          <td style=\"border: 1px solid #ddd; padding: 8px;\">배송 주기 (예: \"7Day\", \"SunOnly\", \"Thu-Sun\" 등)</td>\n",
    "        </tr>\n",
    "        <tr>\n",
    "          <td style=\"border: 1px solid #ddd; padding: 8px;\">Nielsen Prizm</td>\n",
    "          <td style=\"border: 1px solid #ddd; padding: 8px;\">고객 유형 코드</td>\n",
    "        </tr>\n",
    "        <tr>\n",
    "          <td style=\"border: 1px solid #ddd; padding: 8px;\">reward program</td>\n",
    "          <td style=\"border: 1px solid #ddd; padding: 8px;\">리워드 프로그램</td>\n",
    "        </tr>\n",
    "        <tr>\n",
    "          <td style=\"border: 1px solid #ddd; padding: 8px;\">Source Channel</td>\n",
    "          <td style=\"border: 1px solid #ddd; padding: 8px;\">소스 채널(해당 서비스를 어떻게 알게 되었는지)</td>\n",
    "        </tr>\n",
    "        <tr>\n",
    "          <td style=\"border: 1px solid #ddd; padding: 8px;\">Subscriber</td>\n",
    "          <td style=\"border: 1px solid #ddd; padding: 8px;\">구독 여부</td>\n",
    "        </tr>\n",
    "      </tbody>\n",
    "    </table>\n",
    "  </div>\n",
    "</div>\n"
   ]
  },
  {
   "cell_type": "markdown",
   "id": "92866ac6",
   "metadata": {
    "papermill": {
     "duration": 0.03236,
     "end_time": "2024-03-31T18:37:36.447329",
     "exception": false,
     "start_time": "2024-03-31T18:37:36.414969",
     "status": "completed"
    },
    "tags": []
   },
   "source": [
    "<div style=\"border-radius: 10px; border: 2px solid #FFD700; padding: 20px; background-color: #E8F6EF; box-shadow: 0px 6px 12px rgba(0, 0, 0, 0.1); text-align: left;\">\n",
    "    <h2 style=\"color: #17A05D; text-shadow: 2px 2px 4px rgba(0, 0, 0, 0.3); font-size: 24px; font-weight: bold; margin-bottom: 10px;\">\n",
    "        Question(s) for Analysis</h2>\n",
    "        <ol style=\"font-size: 18px; color: #333;\">\n",
    "            <li>상관관계 히트맵</li>\n",
    "            <li>타겟 분포</li>\n",
    "            <li>카테고리별 이탈 비율</li>\n",
    "            <li>요금,소득,나이등 연속형 변수 시각화</li>\n",
    "            <li>고객 유형 분포</li>\n",
    "        </ol>\n",
    "</div>"
   ]
  },
  {
   "cell_type": "markdown",
   "id": "3029cda0",
   "metadata": {
    "papermill": {
     "duration": 0.03177,
     "end_time": "2024-03-31T18:37:36.576395",
     "exception": false,
     "start_time": "2024-03-31T18:37:36.544625",
     "status": "completed"
    },
    "tags": []
   },
   "source": [
    "## <div style=\"text-align: left; background-color: #BB4ED8 ; font-family: Trebuchet MS; color: white; padding: 15px; line-height:1;border-radius:1px; margin-bottom: 0em; text-align: center; font-size: 25px; border-radius: 8px 8px 0 0;  \">1| Import Libraries📚</div>"
   ]
  },
  {
   "cell_type": "code",
   "execution_count": null,
   "id": "389c5cd1",
   "metadata": {
    "execution": {
     "iopub.execute_input": "2024-03-31T18:37:36.642690Z",
     "iopub.status.busy": "2024-03-31T18:37:36.642224Z",
     "iopub.status.idle": "2024-03-31T18:37:39.337767Z",
     "shell.execute_reply": "2024-03-31T18:37:39.336743Z"
    },
    "papermill": {
     "duration": 2.732099,
     "end_time": "2024-03-31T18:37:39.340616",
     "exception": false,
     "start_time": "2024-03-31T18:37:36.608517",
     "status": "completed"
    },
    "tags": []
   },
   "outputs": [],
   "source": [
    "import matplotlib.pyplot as plt\n",
    "import pandas as pd\n",
    "import numpy as np\n",
    "import seaborn as sns\n",
    "import random\n",
    "import re"
   ]
  },
  {
   "cell_type": "markdown",
   "id": "e12b46b0",
   "metadata": {
    "papermill": {
     "duration": 0.032456,
     "end_time": "2024-03-31T18:37:39.405611",
     "exception": false,
     "start_time": "2024-03-31T18:37:39.373155",
     "status": "completed"
    },
    "tags": []
   },
   "source": [
    "<a id='wrangling'></a>\n",
    "## <div style=\"text-align: left; background-color: #BB4ED8 ; font-family: Trebuchet MS; color: white; padding: 15px; line-height:1;border-radius:1px; margin-bottom: 0em; text-align: center; font-size: 25px; border-radius: 8px 8px 0 0;  \">2| Data Wrangling</div>"
   ]
  },
  {
   "cell_type": "code",
   "execution_count": null,
   "id": "3136d189",
   "metadata": {
    "execution": {
     "iopub.execute_input": "2024-03-31T18:37:39.533033Z",
     "iopub.status.busy": "2024-03-31T18:37:39.532378Z",
     "iopub.status.idle": "2024-03-31T18:37:39.875792Z",
     "shell.execute_reply": "2024-03-31T18:37:39.874763Z"
    },
    "papermill": {
     "duration": 0.440885,
     "end_time": "2024-03-31T18:37:39.878384",
     "exception": false,
     "start_time": "2024-03-31T18:37:39.437499",
     "status": "completed"
    },
    "tags": []
   },
   "outputs": [],
   "source": [
    "newspaper_df = pd.read_excel(\"./data/NewspaperChurn.xlsx\")"
   ]
  },
  {
   "cell_type": "markdown",
   "id": "cbc8a264",
   "metadata": {
    "papermill": {
     "duration": 0.031412,
     "end_time": "2024-03-31T18:37:39.942217",
     "exception": false,
     "start_time": "2024-03-31T18:37:39.910805",
     "status": "completed"
    },
    "tags": []
   },
   "source": [
    "<div style='background-color: #fff7f7; border: 2px solid; padding :8px; border-radius: 8px 8px 0 0;'>\n",
    "    <font size=\"+2\" color=\"green\" ><b>Some Information</b></font>\n",
    "</div>"
   ]
  },
  {
   "cell_type": "code",
   "execution_count": null,
   "id": "0c1b62e5",
   "metadata": {
    "execution": {
     "iopub.execute_input": "2024-03-31T18:37:40.008683Z",
     "iopub.status.busy": "2024-03-31T18:37:40.008291Z",
     "iopub.status.idle": "2024-03-31T18:37:40.054541Z",
     "shell.execute_reply": "2024-03-31T18:37:40.053247Z"
    },
    "papermill": {
     "duration": 0.082334,
     "end_time": "2024-03-31T18:37:40.057137",
     "exception": false,
     "start_time": "2024-03-31T18:37:39.974803",
     "status": "completed"
    },
    "tags": []
   },
   "outputs": [],
   "source": [
    "display(newspaper_df.info())"
   ]
  },
  {
   "cell_type": "markdown",
   "id": "59f75166",
   "metadata": {
    "papermill": {
     "duration": 0.032338,
     "end_time": "2024-03-31T18:37:40.122842",
     "exception": false,
     "start_time": "2024-03-31T18:37:40.090504",
     "status": "completed"
    },
    "tags": []
   },
   "source": [
    "<div style='background-color: #fff7f7; border: 2px solid; padding :8px; border-radius: 8px 8px 0 0;'>\n",
    "    <font size=\"+2\" color=\"green\" ><b>Statistics</b></font>\n",
    "</div>"
   ]
  },
  {
   "cell_type": "code",
   "execution_count": null,
   "id": "9007e610",
   "metadata": {
    "execution": {
     "iopub.execute_input": "2024-03-31T18:37:40.191604Z",
     "iopub.status.busy": "2024-03-31T18:37:40.191141Z",
     "iopub.status.idle": "2024-03-31T18:37:40.248545Z",
     "shell.execute_reply": "2024-03-31T18:37:40.246901Z"
    },
    "papermill": {
     "duration": 0.096571,
     "end_time": "2024-03-31T18:37:40.251455",
     "exception": false,
     "start_time": "2024-03-31T18:37:40.154884",
     "status": "completed"
    },
    "tags": []
   },
   "outputs": [],
   "source": [
    "display(newspaper_df.describe())"
   ]
  },
  {
   "cell_type": "markdown",
   "id": "d910fdb7",
   "metadata": {
    "papermill": {
     "duration": 0.032084,
     "end_time": "2024-03-31T18:37:40.316433",
     "exception": false,
     "start_time": "2024-03-31T18:37:40.284349",
     "status": "completed"
    },
    "tags": []
   },
   "source": [
    "<div style='background-color: #fff7f7; border: 2px solid; padding :8px; border-radius: 8px 8px 0 0;'>\n",
    "    <font size=\"+2\" color=\"green\" ><b>Unique item counts on each row</b></font>\n",
    "</div>"
   ]
  },
  {
   "cell_type": "code",
   "execution_count": null,
   "id": "72783806",
   "metadata": {
    "execution": {
     "iopub.execute_input": "2024-03-31T18:37:40.384111Z",
     "iopub.status.busy": "2024-03-31T18:37:40.383695Z",
     "iopub.status.idle": "2024-03-31T18:37:40.434738Z",
     "shell.execute_reply": "2024-03-31T18:37:40.433544Z"
    },
    "papermill": {
     "duration": 0.087822,
     "end_time": "2024-03-31T18:37:40.437484",
     "exception": false,
     "start_time": "2024-03-31T18:37:40.349662",
     "status": "completed"
    },
    "tags": []
   },
   "outputs": [],
   "source": [
    "print(f'Total number of data entries: {newspaper_df.shape[0]}')\n",
    "print()\n",
    "\n",
    "for col in newspaper_df.columns:\n",
    "    print(f'Unique values in column \\'{col}\\': {newspaper_df[col].nunique()}')"
   ]
  },
  {
   "cell_type": "markdown",
   "id": "aebc04aa",
   "metadata": {
    "papermill": {
     "duration": 0.033818,
     "end_time": "2024-03-31T18:37:40.504484",
     "exception": false,
     "start_time": "2024-03-31T18:37:40.470666",
     "status": "completed"
    },
    "tags": []
   },
   "source": [
    "<a id=\"2\"></a>\n",
    "## <div style=\"text-align: left; background-color: #BB4ED8 ; font-family: Trebuchet MS; color: white; padding: 15px; line-height:1;border-radius:1px; margin-bottom: 0em; text-align: center; font-size: 25px; border-radius: 8px 8px 0 0;  \">3| Data Cleaning</div>"
   ]
  },
  {
   "cell_type": "markdown",
   "id": "94aca8df",
   "metadata": {
    "papermill": {
     "duration": 0.032342,
     "end_time": "2024-03-31T18:37:40.570056",
     "exception": false,
     "start_time": "2024-03-31T18:37:40.537714",
     "status": "completed"
    },
    "tags": []
   },
   "source": [
    "<div style='background-color: #fff7f7; border: 2px solid; padding :8px; border-radius: 8px 8px 0 0;'>\n",
    "    <font size=\"+2\" color=\"green\" ><b>3.1 | Convert data type</b></font>\n",
    "</div>"
   ]
  },
  {
   "cell_type": "code",
   "execution_count": null,
   "id": "82af37fa",
   "metadata": {},
   "outputs": [],
   "source": [
    "process_df=newspaper_df.copy()"
   ]
  },
  {
   "cell_type": "markdown",
   "id": "c7204be0",
   "metadata": {},
   "source": [
    "- HH Income"
   ]
  },
  {
   "cell_type": "code",
   "execution_count": null,
   "id": "8873744e",
   "metadata": {},
   "outputs": [],
   "source": [
    "def preprocess_hh_income(df):\n",
    "    \"\"\"\n",
    "    HH Income 열을 전처리하여:\n",
    "    1. `plus`나 `under`가 포함된 값을 평균값으로 대체\n",
    "    2. 범위 데이터(`$30,000 - $39,999`)는 평균값으로 변환\n",
    "    3. 기호(`$`, `,`) 제거\n",
    "    \"\"\"\n",
    "    # 1. \"plus\" 또는 \"under\"가 포함된 행을 마스킹\n",
    "    mask = df['HH Income'].str.contains('plus|under', case=False, na=False)\n",
    "    \n",
    "    # 2. 범위 데이터를 평균값으로 변환 (plus/under 제외)\n",
    "    def process_value(value):\n",
    "        try:\n",
    "            # 기호 제거\n",
    "            clean_value = str(value).replace('$', '').replace(',', '')\n",
    "            \n",
    "            # 범위 처리 (예: \"30000-39999\")\n",
    "            if '-' in clean_value:\n",
    "                low, high = map(int, clean_value.split('-'))\n",
    "                return (low + high) / 2\n",
    "            # 숫자 처리\n",
    "            elif clean_value.isdigit():\n",
    "                return float(clean_value)\n",
    "            else:\n",
    "                return np.nan  # plus/under는 NaN 처리\n",
    "        except:\n",
    "            return np.nan\n",
    "    \n",
    "    # 3. 전체 열을 숫자로 변환 (plus/under는 NaN)\n",
    "    df['HH Income_Processed'] = df['HH Income'].apply(process_value)\n",
    "    \n",
    "    # 4. 평균값 계산 (plus/under 제외)\n",
    "    valid_mean = df.loc[~mask, 'HH Income_Processed'].mean()\n",
    "    \n",
    "    # 5. plus/under가 포함된 행을 평균값으로 대체\n",
    "    df.loc[mask, 'HH Income_Processed'] = valid_mean\n",
    "    \n",
    "    # 6. 원본 열 대체\n",
    "    df['HH Income'] = df['HH Income_Processed'].round(0).astype(int)\n",
    "    df = df.drop('HH Income_Processed', axis=1)\n",
    "    \n",
    "    return df\n",
    "process_df=preprocess_hh_income(process_df)\n",
    "#process_df['HH Income'] =process_df['HH Income'].apply(preprocess_income)"
   ]
  },
  {
   "cell_type": "markdown",
   "id": "45b1f61f",
   "metadata": {},
   "source": [
    "- Home Ownership"
   ]
  },
  {
   "cell_type": "code",
   "execution_count": null,
   "id": "98a721eb",
   "metadata": {},
   "outputs": [],
   "source": [
    "def preprocess_home_ownership(df):\n",
    "    df['Home Ownership'] = df['Home Ownership'].map({'OWNER': 1, 'RENTER': 0})\n",
    "    return df\n",
    "\n",
    "process_df = preprocess_home_ownership(process_df)"
   ]
  },
  {
   "cell_type": "markdown",
   "id": "50e98366",
   "metadata": {},
   "source": [
    "- dummy for Children"
   ]
  },
  {
   "cell_type": "code",
   "execution_count": null,
   "id": "235b1b1d",
   "metadata": {},
   "outputs": [],
   "source": [
    "# 자녀가 있으면 1, 없으면 0    \n",
    "def preprocess_dummy(df):\n",
    "    df['dummy for Children'] = np.where(df['dummy for Children'] == 'Y', 1, 0)\n",
    "    return df\n",
    "\n",
    "process_df = preprocess_dummy(process_df)"
   ]
  },
  {
   "cell_type": "markdown",
   "id": "c9a72b59",
   "metadata": {},
   "source": [
    "- Age range"
   ]
  },
  {
   "cell_type": "code",
   "execution_count": null,
   "id": "610af0f9",
   "metadata": {},
   "outputs": [],
   "source": [
    "def preprocess_age(value):\n",
    "    if pd.isnull(value):\n",
    "        return None\n",
    "    \n",
    "    match = re.findall(r'\\d[\\d,]*', str(value))\n",
    "    num = [int(x.replace(',', '')) for x in match]\n",
    "\n",
    "    if len(num) == 2:\n",
    "        return (num[0] + num[1]) / 2\n",
    "    elif len(num) == 1:\n",
    "        return num[0]\n",
    "    else:\n",
    "        return None\n",
    "    \n",
    "process_df['Age range'] =process_df['Age range'].apply(preprocess_age)\n"
   ]
  },
  {
   "cell_type": "markdown",
   "id": "a324a7e9",
   "metadata": {},
   "source": [
    "- weekly fee"
   ]
  },
  {
   "cell_type": "code",
   "execution_count": null,
   "id": "e1aae67b",
   "metadata": {},
   "outputs": [],
   "source": [
    "def preprocess_fee(x):\n",
    "    if pd.isnull(x):\n",
    "        return np.nan\n",
    "    nums = [float(i.replace('$','').replace(',','')) for i in x.split('-')]\n",
    "    return np.mean(nums)\n",
    "\n",
    "\n",
    "process_df['weekly fee'] =process_df['weekly fee'].apply(preprocess_fee)        "
   ]
  },
  {
   "cell_type": "markdown",
   "id": "5ece62a2",
   "metadata": {},
   "source": [
    "- Deliveryperiod"
   ]
  },
  {
   "cell_type": "code",
   "execution_count": null,
   "id": "e9623ee7",
   "metadata": {},
   "outputs": [],
   "source": [
    "def preprocess_deliveryperiod(df):\n",
    "    # 온라인 배송 타입 정의\n",
    "    online = {\n",
    "        '7DayT', 'Fri-SunT', 'Sun-FriT', 'Thu-SunT', \n",
    "        'SoooTFST', 'Fri-SunT', 'SooooFST', 'SoooooST', 'SunOnlyT', 'SooooooT'\n",
    "    }\n",
    "\n",
    "\n",
    "    period_map = {\n",
    "        '7Day': 7, '7DAY': 7, '7day': 7, '7DayOL': 7, '7DayT': 7,\n",
    "        'Fri-Sun': 6, 'Fri-SunT': 6, 'Sun-Fri': 6, 'Sun-FriT': 6,\n",
    "        'oMTWTFo': 5, 'Mon-Fri': 5,\n",
    "        'Thu-Sun': 4, 'THU-SUN': 4, 'thu-sun': 4, 'SoooTFS': 4, 'SoooTFST': 4, 'Thu-SunT': 4,\n",
    "        'SooooFS': 3, 'SooooFST': 3, 'Fri-SunT': 3, 'Fri-Sun': 3,\n",
    "        'SatSun': 2, 'SoooooS': 2, 'SoooooST': 2,\n",
    "        'SunOnly': 1, 'SunOnlyT': 1, 'sunonly': 1, 'SUNONLY': 1, 'Soooooo': 1, 'SooooooT': 1\n",
    "    }\n",
    "\n",
    "    df['Is_Online'] = df['Deliveryperiod'].apply(lambda x: 1 if x in online else 0)\n",
    "    df['Deliveryperiod'] = df['Deliveryperiod'].map(period_map)\n",
    "\n",
    "    return df\n",
    "\n",
    "process_df = preprocess_deliveryperiod(process_df)"
   ]
  },
  {
   "cell_type": "markdown",
   "id": "d0321987",
   "metadata": {},
   "source": [
    "- Nielsen Prizm"
   ]
  },
  {
   "cell_type": "code",
   "execution_count": null,
   "id": "b7bcde11",
   "metadata": {},
   "outputs": [],
   "source": [
    "def preprocess_nielsen_prizm(df):\n",
    "    nielsen_mapping = {\n",
    "        'FM': 0,  # Female Middle-aged\n",
    "        'MW': 1,  # Male Working-age\n",
    "        'MM': 2,  # Male Middle-aged\n",
    "        'FW': 3,  # Female Working-age\n",
    "        'YW': 4,  # Young Woman\n",
    "        'YM': 5,  # Young Man\n",
    "        'ME': 6,  # Male Elderly\n",
    "        'FE': 7,  # Female Elderly\n",
    "        'YE': 8   # Young Elderly\n",
    "    }\n",
    "    \n",
    "    # 'Nielsen Prizm'을 매핑된 숫자로 변환, NaN 값은 그대로 두기\n",
    "    df['Nielsen Prizm'] = df['Nielsen Prizm'].map(nielsen_mapping).fillna(df['Nielsen Prizm'])\n",
    "    \n",
    "    # process_working 함수 호출\n",
    "    df = preprocess_working(df)\n",
    "    \n",
    "    # process_gender 함수 호출\n",
    "    df = preprocess_gender(df)\n",
    "    \n",
    "    return df\n",
    "\n",
    "# 2. 근로 중 여부 (중이면 1, 아니면 0)\n",
    "def preprocess_working(df):\n",
    "    # NaN 값 처리 없이 근로 여부만 확인\n",
    "    df['Working'] = df['Nielsen Prizm'].apply(lambda x: 1 if x in [1, 3] else 0 if pd.notnull(x) else x)\n",
    "    return df\n",
    "\n",
    "# 3. 성별 (남 : 0, 여: 1)\n",
    "def preprocess_gender(df):\n",
    "    # 기본 성별 처리  # NaN 값이 있을 경우 NaN 그대로 두기\n",
    "    df['Gender'] = df['Nielsen Prizm'].apply(lambda x: 0 if x in [1, 2, 5, 6] else 1 if pd.notnull(x) else x)\n",
    "    \n",
    "    # 'YE' (Young Elderly) 처리: 25명 남성 (0), 26명 여성 (1) 랜덤으로 배분\n",
    "    ye_indices = df[df['Nielsen Prizm'] == 8].index  # 'YE'에 해당하는 인덱스 찾기\n",
    "    \n",
    "    # 랜덤 시드를 고정하여 항상 동일한 결과가 나오도록 설정\n",
    "    random.seed(42)  # 시드 값 (고정된 숫자)\n",
    "    \n",
    "    # 'YE'에 해당하는 인덱스의 길이에 맞는 gender_assignment 리스트 생성\n",
    "    gender_assignment = [0] * (len(ye_indices) // 2) + [1] * (len(ye_indices) - len(ye_indices) // 2)  # 남성 25명, 여성 26명\n",
    "    random.shuffle(gender_assignment)  # 섞기\n",
    "    \n",
    "    # YE 인덱스에 해당하는 성별 값을 할당\n",
    "    df.loc[ye_indices, 'Gender'] = gender_assignment\n",
    "    \n",
    "    return df\n",
    "\n",
    "process_df =preprocess_nielsen_prizm(process_df)"
   ]
  },
  {
   "cell_type": "markdown",
   "id": "e4bb06f5",
   "metadata": {},
   "source": [
    "- reward program"
   ]
  },
  {
   "cell_type": "code",
   "execution_count": null,
   "id": "57281ad9",
   "metadata": {},
   "outputs": [],
   "source": [
    "#  1 이상은 1, 그외에는 0 (결측치 포함)\n",
    "def preprocess_reward_program(df):\n",
    "    df['reward program'] = df['reward program'].apply(lambda x: 1 if x >= 1 else 0)\n",
    "    return df\n",
    "\n",
    "process_df = preprocess_reward_program(process_df)"
   ]
  },
  {
   "cell_type": "markdown",
   "id": "7e631f7b",
   "metadata": {},
   "source": [
    "- Subscriber"
   ]
  },
  {
   "cell_type": "code",
   "execution_count": null,
   "id": "bd1e1ae5",
   "metadata": {},
   "outputs": [],
   "source": [
    "# No : 1, Yes :0\n",
    "def preprocess_subscriber(df):\n",
    "    df['Subscriber'] = df['Subscriber'].map({'NO': 1, 'YES': 0})\n",
    "    return df\n",
    "\n",
    "process_df =preprocess_subscriber(process_df)"
   ]
  },
  {
   "cell_type": "markdown",
   "id": "c843fee4",
   "metadata": {
    "papermill": {
     "duration": 0.032921,
     "end_time": "2024-03-31T18:37:40.722268",
     "exception": false,
     "start_time": "2024-03-31T18:37:40.689347",
     "status": "completed"
    },
    "tags": []
   },
   "source": [
    "<div style='background-color: #fff7f7; border: 2px solid; padding :8px; border-radius: 8px 8px 0 0;'>\n",
    "    <font size=\"+2\" color=\"green\" ><b>3.2 | Drop columns </b></font>\n",
    "</div>"
   ]
  },
  {
   "cell_type": "code",
   "execution_count": null,
   "id": "e458e0fb",
   "metadata": {},
   "outputs": [],
   "source": [
    "drop_df=process_df.copy()\n",
    "drop_df = drop_df.drop(['Ethnicity', 'Language', 'Address', 'State', 'City', 'County', 'Zip Code', 'Source Channel','Nielsen Prizm'], axis=1)\n"
   ]
  },
  {
   "cell_type": "code",
   "execution_count": null,
   "id": "5173507e",
   "metadata": {},
   "outputs": [],
   "source": [
    "drop_df.head(4)"
   ]
  },
  {
   "cell_type": "markdown",
   "id": "eb8be701",
   "metadata": {
    "papermill": {
     "duration": 0.035133,
     "end_time": "2024-03-31T18:37:41.338792",
     "exception": false,
     "start_time": "2024-03-31T18:37:41.303659",
     "status": "completed"
    },
    "tags": []
   },
   "source": [
    "<div style='background-color: #fff7f7; border: 2px solid; padding :8px; border-radius: 8px 8px 0 0;'>\n",
    "    <font size=\"+2\" color=\"green\" ><b>3.3 | Check For Duplicates</b></font>\n",
    "</div>"
   ]
  },
  {
   "cell_type": "code",
   "execution_count": null,
   "id": "65d3dfa0",
   "metadata": {
    "execution": {
     "iopub.execute_input": "2024-03-31T18:37:41.409876Z",
     "iopub.status.busy": "2024-03-31T18:37:41.409454Z",
     "iopub.status.idle": "2024-03-31T18:37:41.479996Z",
     "shell.execute_reply": "2024-03-31T18:37:41.478818Z"
    },
    "papermill": {
     "duration": 0.111212,
     "end_time": "2024-03-31T18:37:41.483062",
     "exception": false,
     "start_time": "2024-03-31T18:37:41.371850",
     "status": "completed"
    },
    "tags": []
   },
   "outputs": [],
   "source": [
    "# print duplicated SubscriptionID\n",
    "duplicated_ids = drop_df[\"SubscriptionID\"][drop_df[\"SubscriptionID\"].duplicated()]\n",
    "print(duplicated_ids.unique())"
   ]
  },
  {
   "cell_type": "code",
   "execution_count": null,
   "id": "3c8052eb",
   "metadata": {},
   "outputs": [],
   "source": [
    "drop_df = drop_df.drop(['SubscriptionID'], axis=1)"
   ]
  },
  {
   "cell_type": "markdown",
   "id": "a74b5aad",
   "metadata": {
    "papermill": {
     "duration": 0.032695,
     "end_time": "2024-03-31T18:37:41.668247",
     "exception": false,
     "start_time": "2024-03-31T18:37:41.635552",
     "status": "completed"
    },
    "tags": []
   },
   "source": [
    "<div style='background-color: #fff7f7; border: 2px solid; padding :8px; border-radius: 8px 8px 0 0;'>\n",
    "    <font size=\"+2\" color=\"green\" ><b>3.4 | Handleing nan values</b></font>\n",
    "</div>"
   ]
  },
  {
   "cell_type": "code",
   "execution_count": null,
   "id": "ff05ae1f",
   "metadata": {
    "execution": {
     "iopub.execute_input": "2024-03-31T18:37:41.741093Z",
     "iopub.status.busy": "2024-03-31T18:37:41.740581Z",
     "iopub.status.idle": "2024-03-31T18:37:41.761832Z",
     "shell.execute_reply": "2024-03-31T18:37:41.760604Z"
    },
    "papermill": {
     "duration": 0.062584,
     "end_time": "2024-03-31T18:37:41.765735",
     "exception": false,
     "start_time": "2024-03-31T18:37:41.703151",
     "status": "completed"
    },
    "tags": []
   },
   "outputs": [],
   "source": [
    "# 결측치 확인\n",
    "print(drop_df.isnull().sum())\n",
    "\n",
    "# 특정열 확인\n",
    "print(f'\\nAge range 결측치 개수 : {drop_df['Age range'].isnull().sum()}')\n",
    "# Age range 결측치 개수 : 108\n",
    "\n",
    "print(f'weekly fee 결측치 개수 : {drop_df['weekly fee'].isnull().sum()}')\n",
    "# weekly fee 결측치 개수 : 186\n",
    "\n",
    "print(f'Working\t결측치 개수 : {drop_df['Working'].isnull().sum()}')\n",
    "# Working 결측치 개수 : 129 # = Gender 결측 # Nielsen Prizm 에서 파생됐으므로"
   ]
  },
  {
   "cell_type": "code",
   "execution_count": null,
   "id": "2e859c4d",
   "metadata": {},
   "outputs": [],
   "source": [
    "no_nan_df = drop_df.copy()\n",
    "\n",
    "# 결측치 제거\n",
    "no_nan_df.dropna(subset=['Working'], inplace=True)\n",
    "\n",
    "# 결측치 평균으로 대체\n",
    "no_nan_df['HH Income'] = no_nan_df['HH Income'].fillna(no_nan_df['HH Income'].mean())\n",
    "no_nan_df['Age range'] = no_nan_df['Age range'].fillna(no_nan_df['Age range'].mean())\n",
    "no_nan_df['weekly fee'] = no_nan_df['weekly fee'].fillna(no_nan_df['weekly fee'].mean())\n"
   ]
  },
  {
   "cell_type": "code",
   "execution_count": null,
   "id": "06b2d554",
   "metadata": {},
   "outputs": [],
   "source": [
    "no_nan_df['Gender'] = no_nan_df['Gender'].astype(int)\n",
    "no_nan_df['Working'] = no_nan_df['Working'].astype(int)\n",
    "no_nan_df['Age range'] = np.floor(no_nan_df['Age range']).astype(int)\n",
    "no_nan_df.rename(columns={'Age range': 'Age'}, inplace=True)\n",
    "\n",
    "no_nan_df.isnull().sum()"
   ]
  },
  {
   "cell_type": "markdown",
   "id": "18fd22a9",
   "metadata": {},
   "source": [
    "- ### 이상치 확인 및 제거(?)"
   ]
  },
  {
   "cell_type": "code",
   "execution_count": null,
   "id": "38f88d39",
   "metadata": {},
   "outputs": [],
   "source": [
    "numeric_df = newspaper_df.select_dtypes(include='number')\n",
    "\n",
    "for col in numeric_df.columns:\n",
    "    Q1 = numeric_df[col].quantile(0.25)\n",
    "    Q3 = numeric_df[col].quantile(0.75)\n",
    "    IQR = Q3 - Q1\n",
    "    lower_bound = Q1 - 1.5 * IQR\n",
    "    upper_bound = Q3 + 1.5 * IQR\n",
    "\n",
    "    outliers = numeric_df[(numeric_df[col] < lower_bound) | (numeric_df[col] > upper_bound)]\n",
    "    outlier_count = outliers.shape[0]\n",
    "\n",
    "    plt.figure(figsize=(6, 2))\n",
    "    sns.boxplot(x=numeric_df[col])\n",
    "    plt.title(f'{col} (Outliers: {outlier_count})')\n",
    "    plt.tight_layout()\n",
    "    plt.show()"
   ]
  },
  {
   "cell_type": "markdown",
   "id": "1c02602c",
   "metadata": {
    "papermill": {
     "duration": 0.03515,
     "end_time": "2024-03-31T18:37:43.662667",
     "exception": false,
     "start_time": "2024-03-31T18:37:43.627517",
     "status": "completed"
    },
    "tags": []
   },
   "source": [
    "<a id='eda'></a>\n",
    "## <div style=\"text-align: left; background-color: #BB4ED8; font-family: Trebuchet MS; color: white; padding: 15px; line-height: 1; border-radius: 1px; margin-bottom: 0em; text-align: center; font-size: 25px\">4|Exploratory Data Analysis</div>"
   ]
  },
  {
   "cell_type": "markdown",
   "id": "7033b05f",
   "metadata": {},
   "source": [
    "### 기본적인 데이터 분포 분석 및 시각화"
   ]
  },
  {
   "cell_type": "markdown",
   "id": "af06df3b",
   "metadata": {},
   "source": [
    "- #### 상관관계 확인"
   ]
  },
  {
   "cell_type": "code",
   "execution_count": null,
   "id": "dc1c2469",
   "metadata": {},
   "outputs": [],
   "source": [
    "df_vis=no_nan_df.copy()"
   ]
  },
  {
   "cell_type": "code",
   "execution_count": null,
   "id": "db61d132",
   "metadata": {},
   "outputs": [],
   "source": [
    "# 상관관계 히트맵\n",
    "selected_numeric_cols = ['HH Income', 'Age', 'weekly fee', 'Year Of Residence', 'reward program', 'Subscriber']\n",
    "correlation_matrix = df_vis[selected_numeric_cols].corr()\n",
    "\n",
    "plt.figure(figsize=(10, 8))\n",
    "sns.heatmap(correlation_matrix, annot=True, fmt=\".2f\", cmap=\"coolwarm\", center=0, vmin=-1, vmax=1)\n",
    "plt.title(\"heat_map\")\n",
    "plt.tight_layout()\n",
    "plt.show()"
   ]
  },
  {
   "cell_type": "markdown",
   "id": "012c9f82",
   "metadata": {
    "papermill": {
     "duration": 0.036176,
     "end_time": "2024-03-31T18:37:43.734523",
     "exception": false,
     "start_time": "2024-03-31T18:37:43.698347",
     "status": "completed"
    },
    "tags": []
   },
   "source": [
    "## <div style=\"text-align: left; background-color: #ffd700; font-family: Trebuchet MS; padding: 15px; line-height: 1; border-radius: 1px; margin-bottom: 0em; text-align: center; font-size: 22px; color:#333\">Research Question 1 | 이탈 여부 분포</div>"
   ]
  },
  {
   "cell_type": "code",
   "execution_count": null,
   "id": "c32cd5d2",
   "metadata": {},
   "outputs": [],
   "source": [
    "# 시각화에서만 Subscriber 값을 0 → 'Yes', 1 → 'No'로 변경\n",
    "plt.figure(figsize=(6, 4))\n",
    "ax = sns.countplot(data=df_vis, x='Subscriber', palette='Set2')\n",
    "ax.set_xticklabels(['Yes', 'No'])  # x축 레이블을 변경\n",
    "\n",
    "# 각 막대 위에 개수 표시 (조금 더 위로 올리기)\n",
    "for p in ax.patches:\n",
    "    ax.annotate(f'{int(p.get_height())}',  # 개수를 정수형으로 표시\n",
    "                (p.get_x() + p.get_width() / 2., p.get_height()), \n",
    "                ha='center', va='center', \n",
    "                fontsize=12, color='black', \n",
    "                xytext=(0, 10), textcoords='offset points')  # 텍스트를 10픽셀 위로 이동\n",
    "\n",
    "# 그래프 제목과 라벨 설정\n",
    "plt.title('Distribution of Subscriber (Churn or Retained)')\n",
    "plt.xlabel('Subscriber')\n",
    "plt.ylabel('Count')\n",
    "\n",
    "# y축 최대값 설정\n",
    "plt.ylim(0, 14000)\n",
    "\n",
    "# 그래프 표시\n",
    "plt.show()\n"
   ]
  },
  {
   "cell_type": "markdown",
   "id": "52865294",
   "metadata": {},
   "source": [
    "<div style=\"position: relative; background-color: #EAEAEA; font-size: 20px; font-family: Georgia; border: 3px solid #FF5733; padding: 10px; margin: 10px 0; color: #333;\">\n",
    "    <div style=\"position: absolute; top: -20px; left: 40%; transform: translateX(-50%); background-color: #FF5733; padding: 5px 15px; font-weight: bold; font-size: 24px; color: white;\">Insights</div>\n",
    "    <ul style=\"list-style-type: disc; padding-left: 20px;\">\n",
    "        <li style=\"margin-bottom: 10px;\">결과1 : No가 Yes보다 약 4배 많았음. 클래스 불균형이 확인됨.</li>\n",
    "    </ul>\n",
    "</div>"
   ]
  },
  {
   "cell_type": "markdown",
   "id": "f23a206e",
   "metadata": {},
   "source": [
    "## <div style=\"text-align: left; background-color: #ffd700; font-family: Trebuchet MS; padding: 15px; line-height: 1; border-radius: 1px; margin-bottom: 0em; text-align: center; font-size: 22px; color:#333\">Research Question 2 | 카테고리별 이탈 비율</div>"
   ]
  },
  {
   "cell_type": "code",
   "execution_count": null,
   "id": "3492d415",
   "metadata": {},
   "outputs": [],
   "source": [
    "\n",
    "# 시각화: 5. 카테고리별 이탈 비율\n",
    "plt.figure(figsize=(12, 5))\n",
    "plt.subplot(1, 2, 1)\n",
    "sns.barplot(x='Home Ownership', y='Subscriber', data=df_vis)\n",
    "plt.title('Home Ownership vs Churn Rate')\n",
    "\n",
    "plt.subplot(1, 2, 2)\n",
    "sns.barplot(x='Deliveryperiod', y='Subscriber', data=df_vis)\n",
    "#plt.xticks(rotation=90)\n",
    "plt.title('Delivery Period vs Churn Rate')\n",
    "plt.tight_layout()\n",
    "plt.show()\n",
    "\n",
    "# 각 배송 기간의 샘플 수와 이탈률 확인\n",
    "delivery_stats = df_vis.groupby('Deliveryperiod')['Subscriber'].agg(['count', 'mean'])\n",
    "delivery_stats.rename(columns={'count': '샘플 수', 'mean': '안이탈률'}, inplace=True)\n",
    "print(delivery_stats)\n"
   ]
  },
  {
   "cell_type": "markdown",
   "id": "48ceceda",
   "metadata": {},
   "source": [
    "<div style=\"position: relative; background-color: #EAEAEA; font-size: 20px; font-family: Georgia; border: 3px solid #FF5733; padding: 10px; margin: 10px 0; color: #333;\">\n",
    "    <div style=\"position: absolute; top: -20px; left: 40%; transform: translateX(-50%); background-color: #FF5733; padding: 5px 15px; font-weight: bold; font-size: 24px; color: white;\">Insights</div>\n",
    "    <ul style=\"list-style-type: disc; padding-left: 20px;\">\n",
    "        <li style=\"margin-bottom: 10px;\">결과 1 : </li> </ul>\n",
    "</div>"
   ]
  },
  {
   "cell_type": "markdown",
   "id": "465e0883",
   "metadata": {},
   "source": [
    "## <div style=\"text-align: left; background-color: #ffd700; font-family: Trebuchet MS; padding: 15px; line-height: 1; border-radius: 1px; margin-bottom: 0em; text-align: center; font-size: 22px; color:#333\">Research Question 3 | 연속형 변수 시각화</div>"
   ]
  },
  {
   "cell_type": "code",
   "execution_count": null,
   "id": "4cc75d17",
   "metadata": {},
   "outputs": [],
   "source": [
    "\n",
    "# 시각화: 6. 연속형 변수별 이탈 여부 분포\n",
    "plt.figure(figsize=(16, 5))\n",
    "\n",
    "plt.subplot(1, 3, 1)\n",
    "sns.boxplot(x='Subscriber', y='weekly fee', data=df_vis)\n",
    "plt.title('Weekly Fee by Churn')\n",
    "\n",
    "plt.subplot(1, 3, 2)\n",
    "sns.boxplot(x='Subscriber', y='HH Income', data=df_vis)\n",
    "plt.title('Income by Churn')\n",
    "\n",
    "plt.subplot(1, 3, 3)\n",
    "sns.boxplot(x='Subscriber', y='Age', data=df_vis)\n",
    "plt.title('Age by Churn')\n",
    "\n",
    "plt.tight_layout()\n",
    "plt.show()\n"
   ]
  },
  {
   "cell_type": "markdown",
   "id": "c6f61a25",
   "metadata": {},
   "source": [
    "<div style=\"position: relative; background-color: #EAEAEA; font-size: 20px; font-family: Georgia; border: 3px solid #FF5733; padding: 10px; margin: 10px 0; color: #333;\">\n",
    "    <div style=\"position: absolute; top: -20px; left: 40%; transform: translateX(-50%); background-color: #FF5733; padding: 5px 15px; font-weight: bold; font-size: 24px; color: white;\">Insights</div>\n",
    "    <ul style=\"list-style-type: disc; padding-left: 20px;\">\n",
    "        <li style=\"margin-bottom: 10px;\">결과 1 : </li>\n",
    "        <li style=\"margin-bottom: 10px;\">결과 2 : </li>\n",
    "        <li style=\"margin-bottom: 10px;\">결과 3</li>\n",
    "    </ul>\n",
    "</div>"
   ]
  },
  {
   "cell_type": "markdown",
   "id": "9bab337a",
   "metadata": {},
   "source": [
    "## <div style=\"text-align: left; background-color: #ffd700; font-family: Trebuchet MS; padding: 15px; line-height: 1; border-radius: 1px; margin-bottom: 0em; text-align: center; font-size: 22px; color:#333\">Research Question 4 | 고객 유형의 분포</div>"
   ]
  },
  {
   "cell_type": "code",
   "execution_count": null,
   "id": "bb231c1b",
   "metadata": {},
   "outputs": [],
   "source": [
    "# Nielsen Prizm 별 이탈 비율 계산\n",
    "churn_rate = newspaper_df.groupby('Nielsen Prizm')['Subscriber'].apply(lambda x: (x == 'NO').mean()).sort_values(ascending=False)\n",
    "\n",
    "# 그래프 스타일 설정\n",
    "sns.set_style(\"whitegrid\")\n",
    "plt.figure(figsize=(14, 7))\n",
    "\n",
    "# Nielsen Prizm 별 이탈 비율 막대 그래프\n",
    "ax1 = plt.subplot(121)\n",
    "churn_rate.plot(kind='bar', color='skyblue', edgecolor='black')\n",
    "plt.title('Nielsen Prizm 별 이탈 비율', fontsize=14, fontweight='bold')\n",
    "plt.xlabel('Nielsen Prizm', fontsize=12)\n",
    "plt.ylabel('이탈 비율', fontsize=12)\n",
    "plt.xticks(rotation=45, fontsize=10, ha='right')\n",
    "\n",
    "# Nielsen Prizm 분포 countplot\n",
    "ax2 = plt.subplot(122)\n",
    "sns.countplot(data=newspaper_df, x='Nielsen Prizm', order=newspaper_df['Nielsen Prizm'].value_counts().index, palette='pastel', edgecolor='black')\n",
    "plt.title('Nielsen Prizm 분포', fontsize=14, fontweight='bold')\n",
    "plt.xlabel('Nielsen Prizm', fontsize=12)\n",
    "plt.ylabel('고객 수', fontsize=12)\n",
    "plt.xticks(rotation=45, fontsize=10, ha='right')\n",
    "\n",
    "plt.tight_layout()\n",
    "plt.show()\n"
   ]
  },
  {
   "cell_type": "code",
   "execution_count": null,
   "id": "ae63188b",
   "metadata": {},
   "outputs": [],
   "source": [
    "# 전처리 후후\n",
    "# Nielsen Prizm -> Gender, Working\n",
    "plt.figure(figsize=(12, 6))\n",
    "\n",
    "# Gender vs Churn Rate\n",
    "plt.subplot(1, 2, 1)\n",
    "ax1 = sns.barplot(x='Gender', y='Subscriber', data=process_df, palette='Set2', ci=None, width=0.5)  # 막대 두께 조정 (width=0.5)\n",
    "ax1.set_xticklabels(['Male', 'Female'])  # x축 이름을 문자열로 변경\n",
    "plt.title('Gender vs Churn Rate', fontsize=14)\n",
    "plt.xlabel('Gender', fontsize=12)\n",
    "plt.ylabel('Churn Rate', fontsize=12)\n",
    "\n",
    "# Working vs Churn Rate\n",
    "plt.subplot(1, 2, 2)\n",
    "ax2 = sns.barplot(x='Working', y='Subscriber', data=process_df, palette='pastel', ci=None, width=0.5)  # 막대 두께 조정 (width=0.5)\n",
    "ax2.set_xticklabels(['Not Working', 'Working'])  # x축 이름을 문자열로 변경\n",
    "plt.title('Working vs Churn Rate', fontsize=14)\n",
    "plt.xlabel('Working Status', fontsize=12)\n",
    "plt.ylabel('Churn Rate', fontsize=12)\n",
    "\n",
    "plt.tight_layout()\n",
    "plt.show()"
   ]
  },
  {
   "cell_type": "markdown",
   "id": "a834e8c5",
   "metadata": {},
   "source": [
    "<div style=\"position: relative; background-color: #EAEAEA; font-size: 20px; font-family: Georgia; border: 3px solid #FF5733; padding: 10px; margin: 10px 0; color: #333;\">\n",
    "    <div style=\"position: absolute; top: -20px; left: 40%; transform: translateX(-50%); background-color: #FF5733; padding: 5px 15px; font-weight: bold; font-size: 24px; color: white;\">Insights</div>\n",
    "    <ul style=\"list-style-type: disc; padding-left: 20px;\">\n",
    "        <li style=\"margin-bottom: 10px;\">결과 1</li>\n",
    "        <li style=\"margin-bottom: 10px;\">결과 2</li>\n",
    "        <li style=\"margin-bottom: 10px;\">결과 3</li>\n",
    "    </ul>\n",
    "</div>"
   ]
  },
  {
   "cell_type": "markdown",
   "id": "c02100c3",
   "metadata": {
    "papermill": {
     "duration": 0.074243,
     "end_time": "2024-03-31T18:38:10.932326",
     "exception": false,
     "start_time": "2024-03-31T18:38:10.858083",
     "status": "completed"
    },
    "tags": []
   },
   "source": [
    "## <div style=\"text-align: left; background-color: #BB4ED8 ; font-family: Trebuchet MS; color: white; padding: 15px; line-height:1;border-radius:1px; margin-bottom: 0em; text-align: center; font-size: 25px; border-radius: 8px 8px 0 0;  \">6| Communicate Results</div>"
   ]
  },
  {
   "cell_type": "markdown",
   "id": "7b0b1378",
   "metadata": {
    "papermill": {
     "duration": 0.073343,
     "end_time": "2024-03-31T18:38:11.079616",
     "exception": false,
     "start_time": "2024-03-31T18:38:11.006273",
     "status": "completed"
    },
    "tags": []
   },
   "source": [
    "<a id='conclusions'></a>\n",
    "<div style=\"border-radius: 10px; border: 2px solid #FFD700; padding: 20px; background-color: #E8F6EF; box-shadow: 0px 6px 12px rgba(0, 0, 0, 0.1); text-align: left;\">\n",
    "    <h2 style=\"color: #17A05D; text-shadow: 2px 2px 4px rgba(0, 0, 0, 0.3); font-size: 24px; font-weight: bold; margin-bottom: 10px;\">\n",
    "        Conclusions</h2>\n",
    "        <ol style=\"font-size: 18px; color: #333;\">\n",
    "            <li>결과1</li>\n",
    "            <li>결과2</li>\n",
    "            <li>결과3</li>\n",
    "            <li>결과4</li>\n",
    "        </ol>\n",
    "</div>"
   ]
  },
  {
   "cell_type": "markdown",
   "id": "1d6df6ab",
   "metadata": {
    "papermill": {
     "duration": 0.073972,
     "end_time": "2024-03-31T18:38:11.551385",
     "exception": false,
     "start_time": "2024-03-31T18:38:11.477413",
     "status": "completed"
    },
    "tags": []
   },
   "source": [
    "<img src=\"https://raw.githubusercontent.com/ntclai/PictureForMyProject/main/87481-of-thanks-letter-text-logo-calligraphy-drawing%20(1).png\">"
   ]
  }
 ],
 "metadata": {
  "kaggle": {
   "accelerator": "none",
   "dataSources": [
    {
     "datasetId": 138,
     "sourceId": 4508,
     "sourceType": "datasetVersion"
    },
    {
     "datasetId": 3405,
     "sourceId": 6663,
     "sourceType": "datasetVersion"
    },
    {
     "datasetId": 434238,
     "sourceId": 2654038,
     "sourceType": "datasetVersion"
    },
    {
     "datasetId": 4669189,
     "sourceId": 7941576,
     "sourceType": "datasetVersion"
    }
   ],
   "dockerImageVersionId": 30673,
   "isGpuEnabled": false,
   "isInternetEnabled": false,
   "language": "python",
   "sourceType": "notebook"
  },
  "kernelspec": {
   "display_name": "pystudy_env",
   "language": "python",
   "name": "python3"
  },
  "language_info": {
   "codemirror_mode": {
    "name": "ipython",
    "version": 3
   },
   "file_extension": ".py",
   "mimetype": "text/x-python",
   "name": "python",
   "nbconvert_exporter": "python",
   "pygments_lexer": "ipython3",
   "version": "3.12.8"
  },
  "papermill": {
   "default_parameters": {},
   "duration": 39.430358,
   "end_time": "2024-03-31T18:38:12.347378",
   "environment_variables": {},
   "exception": null,
   "input_path": "__notebook__.ipynb",
   "output_path": "__notebook__.ipynb",
   "parameters": {},
   "start_time": "2024-03-31T18:37:32.917020",
   "version": "2.5.0"
  }
 },
 "nbformat": 4,
 "nbformat_minor": 5
}
